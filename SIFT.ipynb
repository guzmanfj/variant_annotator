{
 "cells": [
  {
   "cell_type": "markdown",
   "id": "ecec0591-5d80-4709-8819-938b231e5608",
   "metadata": {},
   "source": [
    "# Define variants"
   ]
  },
  {
   "cell_type": "code",
   "execution_count": null,
   "id": "d885eb09-049a-4a25-9717-3e7b20cb226e",
   "metadata": {},
   "outputs": [],
   "source": [
    "mutations = [\n",
    "    '12     121806070   T   C'.split(),\n",
    "    '12     121808247   G   T'.split(),\n",
    "    '12     121814593   C   G'.split(),\n",
    "    '12     121817872   C   T'.split(),\n",
    "    '12     121825271   C   T'.split(),\n",
    "    '12     121827555   C   T'.split(),\n",
    "    '12     121827739   G   C'.split(),\n",
    "    '12     121827745   A   G'.split()\n",
    "]"
   ]
  },
  {
   "cell_type": "markdown",
   "id": "9be8c554-b6e0-42e6-84c4-efb5cc51e98d",
   "metadata": {},
   "source": [
    "# Run SIFT"
   ]
  },
  {
   "cell_type": "code",
   "execution_count": null,
   "id": "eccf3d46-f048-4277-b7de-4df479087472",
   "metadata": {},
   "outputs": [],
   "source": [
    "import sys, os\n",
    "from pathlib import Path\n",
    "import json\n",
    "\n",
    "sys.path.append(os.fspath(Path.cwd() / 'mutation_classifier/programs'))\n",
    "\n",
    "from SIFT.SIFT_ibex import SIFTIbex"
   ]
  },
  {
   "cell_type": "code",
   "execution_count": null,
   "id": "3a73392b-9f5a-49a3-b5db-a13041fb9957",
   "metadata": {},
   "outputs": [],
   "source": [
    "out_dir = Path('./results/sift')"
   ]
  },
  {
   "cell_type": "markdown",
   "id": "70dd59fa-68d5-4ca2-a556-6c1661a95f4c",
   "metadata": {},
   "source": [
    "# Check results"
   ]
  },
  {
   "cell_type": "code",
   "execution_count": null,
   "id": "a5166f5c-c37c-44ba-8680-9455b5e02a50",
   "metadata": {},
   "outputs": [],
   "source": [
    "from pathlib import Path\n",
    "import json"
   ]
  },
  {
   "cell_type": "code",
   "execution_count": null,
   "id": "2d7f86e0-987f-4a87-b02c-3a7ef1e62105",
   "metadata": {},
   "outputs": [],
   "source": [
    "pkls = list(Path('./results/sift').glob('*.pkl'))\n",
    "len(pkls)"
   ]
  },
  {
   "cell_type": "code",
   "execution_count": null,
   "id": "f8c57f49-ad78-403c-8e12-73c9b25eb4c1",
   "metadata": {},
   "outputs": [],
   "source": [
    "dfs = []\n",
    "for pkl in pkls:\n",
    "    dfs.append(pd.read_pickle(pkl))\n",
    "\n",
    "all_variants_sift = pd.concat(dfs)"
   ]
  },
  {
   "cell_type": "markdown",
   "id": "8f3645ee-c618-409e-89ee-f49ff6593c01",
   "metadata": {},
   "source": [
    "# Output description\n",
    "---"
   ]
  },
  {
   "cell_type": "markdown",
   "id": "5c3c6db5-90c6-4ea5-bd51-440a4d3a7542",
   "metadata": {},
   "source": [
    "From https://sift.bii.a-star.edu.sg/sift4g/AnnotateVariants.html"
   ]
  },
  {
   "cell_type": "markdown",
   "id": "7ef75944-9d68-4223-a257-df1b39cc8b6b",
   "metadata": {},
   "source": [
    "First 4 columns are the same as the input vcf. Columns 4 and 5 are repeated (bug). (?)"
   ]
  },
  {
   "cell_type": "markdown",
   "id": "f4b74d1d-d5df-4c5b-bac4-acfcb2597382",
   "metadata": {},
   "source": [
    "- **TRANSCRIPT_ID**: Ensembl Transcript ID\n",
    "- **GENE_ID**: Ensembl Gene ID\n",
    "- **GENE_NAME**: Ensembl gene name\n",
    "- **REGION**: Region\n",
    "- **VARIANT_TYPE**: Indicates the type of variant (SYNONYMOUS, NON-SYNONYMOUS, STOP-LOSS, STOP_GAIN, START_LOSS, FRAMESHIFT-INSERTION, FRAMESHIFT-DELETION, INFRAME-INSERTION, INFRAME-DELETION, SUBSTITUTION).\n",
    "- **REF_AMINO**: Reference amino acid\n",
    "- **ALT_AMINO**: Alternate amino acid\n",
    "- **AMINO_POS**: Position of amino acid change\n",
    "- **SIFT_SCORE**: Ranges from 0 to 1. The amino acid substitution is predicted deleterious is the score is <= 0.05, and tolerated if the score is > 0.05.\n",
    "- **SIFT_MEDIAN**: Ranges from 0 to 4.32, ideally the number would be between 2.75 and 3.5. This is used to measure the diversity of the sequences used for prediction. A warning will occur if this is greater than 3.25 because this indicates that the prediction was based on closely related sequences.\n",
    "- **NUM_SEQ**: This is the number of sequences that have an amino acid at the position of prediction. SIFT 4G (and SIFT) automatically chooses the sequence for you, but if the substitution is located at the beginning or end of the protein, there may be only a few sequences represented at that position, and this column indicates this.\n",
    "- **dbSNP**: dbSNP ID\n",
    "- **SIFT_PREDICTION**: Prediction will be deleterious (affects protein function) or tolerated (neutral)."
   ]
  },
  {
   "cell_type": "code",
   "execution_count": null,
   "id": "1dc3e1a2-b9e7-48ad-ab91-02cfeb93bdc9",
   "metadata": {},
   "outputs": [],
   "source": []
  }
 ],
 "metadata": {
  "kernelspec": {
   "display_name": "Python 3",
   "language": "python",
   "name": "python3"
  },
  "language_info": {
   "codemirror_mode": {
    "name": "ipython",
    "version": 3
   },
   "file_extension": ".py",
   "mimetype": "text/x-python",
   "name": "python",
   "nbconvert_exporter": "python",
   "pygments_lexer": "ipython3",
   "version": "3.9.5"
  }
 },
 "nbformat": 4,
 "nbformat_minor": 5
}
