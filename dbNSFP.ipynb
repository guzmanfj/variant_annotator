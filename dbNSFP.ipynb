{
 "cells": [
  {
   "cell_type": "markdown",
   "id": "a8f060df-50a2-4185-b44e-8c94b3016083",
   "metadata": {},
   "source": [
    "# Define variants"
   ]
  },
  {
   "cell_type": "code",
   "execution_count": null,
   "id": "4d541f14-01bd-4698-b4cb-28913e8aefd5",
   "metadata": {},
   "outputs": [],
   "source": [
    "mutations_dbNSFP = [\n",
    "    ['ENST00000604567', 'M170T', 12],\n",
    "    ['ENST00000604567', 'G195V', 12],\n",
    "    ['ENST00000604567', 'P793R', 12],\n",
    "    ['ENST00000604567', 'A1129V', 12],\n",
    "    ['ENST00000604567', 'R1748C', 12],\n",
    "    ['ENST00000604567', 'R1792W', 12],\n",
    "    ['ENST00000604567', 'R1825P', 12],\n",
    "    ['ENST00000604567', 'K1827R', 12]\n",
    "]\n",
    "\n",
    "test = [['ENST00000604567', 'V169A', 12]]\n",
    "\n",
    "# Try the generation of a stop codon, changing M170(ATG) to TAG\n",
    "# change the sequence 121806068 - 'CATG' to CTAG\n",
    "test = [[12, 121806068, 'CAT', 'CTA']]\n",
    "\n",
    "mutations = [\n",
    "    '12     121806070   T   C'.split(),\n",
    "    '12     121808247   G   T'.split(),\n",
    "    '12     121814593   C   G'.split(),\n",
    "    '12     121817872   C   T'.split(),\n",
    "    '12     121825271   C   T'.split(),\n",
    "    '12     121827555   C   T'.split(),\n",
    "    '12     121827739   G   C'.split(),\n",
    "    '12     121827745   A   G'.split()\n",
    "]"
   ]
  },
  {
   "cell_type": "markdown",
   "id": "b53716d9-5d57-4adc-a09f-22b1d94aa6ae",
   "metadata": {},
   "source": [
    "# Run dbNSFP"
   ]
  },
  {
   "cell_type": "code",
   "execution_count": null,
   "id": "182c6411-6385-4a4b-b603-861530ec6f28",
   "metadata": {},
   "outputs": [],
   "source": [
    "import sys, os\n",
    "from pathlib import Path\n",
    "import json\n",
    "\n",
    "sys.path.append(os.fspath(Path.cwd() / 'mutation_classifier/programs'))\n",
    "\n",
    "from dbNSFP.dbNSFP_ibex import dbNSFPIbex"
   ]
  },
  {
   "cell_type": "code",
   "execution_count": null,
   "id": "3009eaf7-7210-40aa-a1aa-f9359211a1c1",
   "metadata": {},
   "outputs": [],
   "source": [
    "out_dir = Path('./results/dbnsfp')"
   ]
  },
  {
   "cell_type": "code",
   "execution_count": null,
   "id": "ccbacf54-91ff-414b-9896-e1161e88a190",
   "metadata": {},
   "outputs": [],
   "source": [
    "exe = dbNSFPIbex(all_variants_list, out_dir = out_dir, time_per_command=0.5,\n",
    "                 jobname='dbnsfpibex', max_jobs=100)\n",
    "jobid = exe.run()"
   ]
  },
  {
   "cell_type": "markdown",
   "id": "de42dd61-01a8-447f-b5da-298d3fff95e3",
   "metadata": {},
   "source": [
    "# Check results"
   ]
  },
  {
   "cell_type": "code",
   "execution_count": null,
   "id": "912cec9d-1568-4124-a6ac-cf89813462b0",
   "metadata": {},
   "outputs": [],
   "source": [
    "from pathlib import Path\n",
    "import json"
   ]
  },
  {
   "cell_type": "code",
   "execution_count": null,
   "id": "8ff0a0bb-c493-411f-adf4-c0e3e6c852e6",
   "metadata": {},
   "outputs": [],
   "source": [
    "pkls = list(Path('./results/dbnsfp').glob('*.pkl'))\n",
    "len(pkls)"
   ]
  },
  {
   "cell_type": "code",
   "execution_count": null,
   "id": "744d269b-b466-49ad-8b74-8c4395d53fa0",
   "metadata": {},
   "outputs": [],
   "source": [
    "dfs = []\n",
    "for pkl in pkls:\n",
    "    dfs.append(pd.read_pickle(pkl))\n",
    "\n",
    "all_variants_dbnsfp = pd.concat(dfs)"
   ]
  },
  {
   "cell_type": "markdown",
   "id": "0c29533e-b356-42f3-bb2f-a15b7593755c",
   "metadata": {},
   "source": [
    "# Calculate the consensus of the deleteriousness predictions"
   ]
  },
  {
   "cell_type": "code",
   "execution_count": null,
   "id": "f776850e-3311-4814-acbb-849534748b8f",
   "metadata": {},
   "outputs": [],
   "source": [
    "def deleterious_prediction(var:pd.Series):\n",
    "    sift = any([p=='D' for p in var['SIFT_pred'].split(';')])\n",
    "    ph2_hdiv = any([p=='D' for p in var['Polyphen2_HDIV_pred'].split(';')])\n",
    "    ph2_hvar = any([p=='D' for p in var['Polyphen2_HVAR_pred'].split(';')])\n",
    "    lrt_pred = any([p=='D' for p in var['LRT_pred'].split(';')])\n",
    "    mtt_pred = any([p=='D' for p in var['MutationTaster_pred'].split(';')])\n",
    "    \n",
    "    return all([sift, ph2_hdiv, ph2_hvar, lrt_pred, mtt_pred])"
   ]
  },
  {
   "cell_type": "code",
   "execution_count": null,
   "id": "b64b6fd0-babe-4a4e-9c70-2bba17ed7edd",
   "metadata": {},
   "outputs": [],
   "source": [
    "all_variants_dbnsfp['deleterious_consensus'] = all_variants_dbnsfp.apply(deleterious_prediction, axis=1)"
   ]
  },
  {
   "cell_type": "markdown",
   "id": "09d66625-91af-4406-beae-afd1e57b370f",
   "metadata": {},
   "source": [
    "# Conservation"
   ]
  },
  {
   "cell_type": "markdown",
   "id": "be32ea8e-85ce-4afc-9620-c9c478c53dc7",
   "metadata": {},
   "source": [
    "```\n",
    "151\tGERP++_NR: GERP++ neutral rate\n",
    "152\tGERP++_RS: GERP++ RS score, the larger the score, the more conserved the site. Scores range from\n",
    "\t\t-12.3 to 6.17.\n",
    "153\tGERP++_RS_rankscore: GERP++ RS scores were ranked among all GERP++ RS scores in dbNSFP.\n",
    "\t\tThe rankscore is the ratio of the rank of the score over the total number of GERP++ RS \n",
    "\t\tscores in dbNSFP.\n",
    "154\tphyloP100way_vertebrate: phyloP (phylogenetic p-values) conservation score based on the\n",
    "\t\tmultiple alignments of 100 vertebrate genomes (including human). The larger the score, \n",
    "\t\tthe more conserved the site. Scores range from -20.0 to 10.003 in dbNSFP.\n",
    "155\tphyloP100way_vertebrate_rankscore: phyloP100way_vertebrate scores were ranked among all\n",
    "\t\tphyloP100way_vertebrate scores in dbNSFP. The rankscore is the ratio of the rank of the \n",
    "\t\tscore over the total number of phyloP100way_vertebrate scores in dbNSFP.\n",
    "156\tphyloP30way_mammalian: phyloP (phylogenetic p-values) conservation score based on the\n",
    "\t\tmultiple alignments of 30 mammalian genomes (including human). The larger the score, \n",
    "\t\tthe more conserved the site. Scores range from -20 to 1.312 in dbNSFP.\n",
    "157\tphyloP30way_mammalian_rankscore: phyloP30way_mammalian scores were ranked among all\n",
    "\t\tphyloP30way_mammalian scores in dbNSFP. The rankscore is the ratio of the rank of the \n",
    "\t\tscore over the total number of phyloP30way_mammalian scores in dbNSFP.\n",
    "158\tphyloP17way_primate: a conservation score based on 17way alignment primate set,\n",
    "\t\tthe higher the more conservative. Scores range from -13.362 to 0.756 in dbNSFP.\n",
    "159\tphyloP17way_primate_rankscore: the rank of the phyloP17way_primate score among\n",
    "\t\tall phyloP17way_primate scores in dbNSFP.\n",
    "160\tphastCons100way_vertebrate: phastCons conservation score based on the multiple alignments\n",
    "\t\tof 100 vertebrate genomes (including human). The larger the score, the more conserved \n",
    "\t\tthe site. Scores range from 0 to 1. \n",
    "161\tphastCons100way_vertebrate_rankscore: phastCons100way_vertebrate scores were ranked among\n",
    "\t\tall phastCons100way_vertebrate scores in dbNSFP. The rankscore is the ratio of the rank \n",
    "\t\tof the score over the total number of phastCons100way_vertebrate scores in dbNSFP.\n",
    "162\tphastCons30way_mammalian: phastCons conservation score based on the multiple alignments\n",
    "\t\tof 30 mammalian genomes (including human). The larger the score, the more conserved \n",
    "\t\tthe site. Scores range from 0 to 1. \n",
    "163\tphastCons30way_mammalian_rankscore: phastCons30way_mammalian scores were ranked among\n",
    "\t\tall phastCons30way_mammalian scores in dbNSFP. The rankscore is the ratio of the rank \n",
    "\t\tof the score over the total number of phastCons30way_mammalian scores in dbNSFP.\n",
    "164\tphastCons17way_primate: a conservation score based on 17way alignment primate set,\n",
    "\t\tThe larger the score, the more conserved the site. Scores range from 0 to 1. \n",
    "165\tphastCons17way_primate_rankscore: the rank of the phastCons17way_primate score among\n",
    "\t\tall phastCons17way_primate scores in dbNSFP.\n",
    "166\tSiPhy_29way_pi: The estimated stationary distribution of A, C, G and T at the site,\n",
    "\t\tusing SiPhy algorithm based on 29 mammals genomes. \n",
    "167\tSiPhy_29way_logOdds: SiPhy score based on 29 mammals genomes. The larger the score,\n",
    "\t\tthe more conserved the site. Scores range from 0 to 37.9718 in dbNSFP.\n",
    "168\tSiPhy_29way_logOdds_rankscore: SiPhy_29way_logOdds scores were ranked among all\n",
    "\t\tSiPhy_29way_logOdds scores in dbNSFP. The rankscore is the ratio of the rank \n",
    "\t\tof the score over the total number of SiPhy_29way_logOdds scores in dbNSFP.\n",
    "169\tbStatistic: Background selection (B) value estimates from doi.org/10.1371/journal.pgen.1000471.\n",
    "\t\tRanges from 0 to 1000. It estimates the expected fraction (*1000) of neutral diversity present \n",
    "\t\tat a site. Values close to 0 represent near complete removal of diversity as a result of \n",
    "\t\tbackground selection and values near 1000 indicating absent of background selection. \n",
    "\t\tData from CADD v1.4.\n",
    "170\tbStatistic_converted_rankscore: bStatistic scores were first converted to -bStatistic, then \n",
    "\t\tranked among all -bStatistic scores in dbNSFP. The rankscore is the ratio of the rank of \n",
    "\t\t-bStatistic over the total number of -bStatistic scores in dbNSFP.\n",
    "```"
   ]
  },
  {
   "cell_type": "code",
   "execution_count": null,
   "id": "7add4d44-86a9-4a9c-9439-ba4883740ca2",
   "metadata": {},
   "outputs": [],
   "source": [
    "pd.merge(dbnsfp_all.loc[:,'HGVSp_VEP'], dbnsfp_all.loc[:,'GERP++_NR':'bStatistic_converted_rankscore'], left_index=True, right_index=True)"
   ]
  },
  {
   "cell_type": "markdown",
   "id": "fd73f6eb-d886-4612-8c1b-db74c2f29591",
   "metadata": {},
   "source": [
    "# Interpro domains"
   ]
  },
  {
   "cell_type": "code",
   "execution_count": null,
   "id": "483ff2de-c52e-4f53-98a6-05f267a28379",
   "metadata": {},
   "outputs": [],
   "source": [
    "dbnsfp_all.loc[:,'Interpro_domain']"
   ]
  }
 ],
 "metadata": {
  "kernelspec": {
   "display_name": "Python 3",
   "language": "python",
   "name": "python3"
  },
  "language_info": {
   "codemirror_mode": {
    "name": "ipython",
    "version": 3
   },
   "file_extension": ".py",
   "mimetype": "text/x-python",
   "name": "python",
   "nbconvert_exporter": "python",
   "pygments_lexer": "ipython3",
   "version": "3.9.5"
  }
 },
 "nbformat": 4,
 "nbformat_minor": 5
}
