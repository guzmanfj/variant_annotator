{
 "cells": [
  {
   "cell_type": "markdown",
   "id": "b1f2c53a-50bd-4d58-afed-954b72eb1d73",
   "metadata": {},
   "source": [
    "# Define variants"
   ]
  },
  {
   "cell_type": "code",
   "execution_count": null,
   "id": "2e417890-1bf7-4fa1-8cbd-7b45605effb4",
   "metadata": {},
   "outputs": [],
   "source": [
    "mutations = [\n",
    "    '12     121806070   T   C'.split(),\n",
    "    '12     121808247   G   T'.split(),\n",
    "    '12     121814593   C   G'.split(),\n",
    "    '12     121817872   C   T'.split(),\n",
    "    '12     121825271   C   T'.split(),\n",
    "    '12     121827555   C   T'.split(),\n",
    "    '12     121827739   G   C'.split(),\n",
    "    '12     121827745   A   G'.split()\n",
    "]"
   ]
  },
  {
   "cell_type": "markdown",
   "id": "94fd85b6-d0ee-4308-9077-c44d7f7c58b6",
   "metadata": {},
   "source": [
    "# Run SnpEff"
   ]
  },
  {
   "cell_type": "code",
   "execution_count": null,
   "id": "9eb822e6-f485-464c-bf63-9d43adca1779",
   "metadata": {},
   "outputs": [],
   "source": [
    "import sys, os\n",
    "from pathlib import Path\n",
    "import json\n",
    "\n",
    "sys.path.append(os.fspath(Path.cwd() / 'mutation_classifier/programs'))\n",
    "\n",
    "from SnpEff.SnpEff_ibex import SnpEffIbex"
   ]
  },
  {
   "cell_type": "code",
   "execution_count": null,
   "id": "f7367364-eb39-40e1-aab9-11b364ecd6f3",
   "metadata": {},
   "outputs": [],
   "source": [
    "out_dir = Path('./results/snpeff')"
   ]
  },
  {
   "cell_type": "code",
   "execution_count": null,
   "id": "69f1f735-64a9-47ea-ae7b-7da87a179bce",
   "metadata": {},
   "outputs": [],
   "source": [
    "exe = SnpEffIbex(all_variants_list, out_dir=out_dir, jobname='SnpEff', max_jobs=1000)\n",
    "jobid = exe.run()"
   ]
  },
  {
   "cell_type": "code",
   "execution_count": null,
   "id": "62155334-cdb5-476f-b853-9cf0132df914",
   "metadata": {},
   "outputs": [],
   "source": [
    "!squeue -u guzmanfj"
   ]
  },
  {
   "cell_type": "markdown",
   "id": "a8eb43d0-50f8-4225-bdc3-bb1f1395ec1e",
   "metadata": {},
   "source": [
    "# Check results"
   ]
  },
  {
   "cell_type": "code",
   "execution_count": null,
   "id": "0a957cc2-0ab9-4040-a862-e29121e6c84d",
   "metadata": {},
   "outputs": [],
   "source": [
    "from pathlib import Path\n",
    "import json"
   ]
  },
  {
   "cell_type": "code",
   "execution_count": null,
   "id": "b9149014-a12d-4a36-962f-1cd2adad4944",
   "metadata": {},
   "outputs": [],
   "source": [
    "!ls ./results/snpeff/ | wc"
   ]
  },
  {
   "cell_type": "code",
   "execution_count": null,
   "id": "b66e3920-e970-4273-b113-878c638310bc",
   "metadata": {},
   "outputs": [],
   "source": [
    "pkls = list(Path('./results/snpeff').glob('*.pkl'))\n",
    "len(pkls)"
   ]
  },
  {
   "cell_type": "code",
   "execution_count": null,
   "id": "46429783-52eb-4ce8-9168-4cf64a784fba",
   "metadata": {},
   "outputs": [],
   "source": [
    "dfs = []\n",
    "for pkl in pkls:\n",
    "    dfs.append(pd.read_pickle(pkl))\n",
    "\n",
    "all_variants_snpeff = pd.concat(dfs)"
   ]
  },
  {
   "cell_type": "markdown",
   "id": "c49780da-24b4-4b37-bd0b-7c8783e2e5c8",
   "metadata": {},
   "source": [
    "# Identify LOF variants"
   ]
  },
  {
   "cell_type": "code",
   "execution_count": null,
   "id": "3ad8e674-7c16-4b59-8247-088967faaaf9",
   "metadata": {},
   "outputs": [],
   "source": [
    "lof_effects = ['Chromosome_number_variation',\n",
    "'Exon_loss_variant', \n",
    "'Frameshift_variant', \n",
    "'Stop_gained', \n",
    "'Stop_lost', \n",
    "'Start_lost', \n",
    "'Splice_acceptor_variant', \n",
    "'Splice_donor_variant', \n",
    "'Rare_amino_acid_variant',\n",
    "'Transcript_ablation', \n",
    "'Disruptive_inframe_insertion', \n",
    "'Disruptive_inframe_deletion']\n",
    "\n",
    "lof_effects = [e.lower() for e in lof_effects]"
   ]
  },
  {
   "cell_type": "markdown",
   "id": "cef1e4f8-da7d-402c-90a1-536f7180a531",
   "metadata": {},
   "source": [
    "Reassign the `effect` column to separate multiple effects"
   ]
  },
  {
   "cell_type": "code",
   "execution_count": null,
   "id": "f591a712-5351-47eb-a114-e10277e23c78",
   "metadata": {},
   "outputs": [],
   "source": [
    "all_variants_snpeff['effect'] = all_variants_snpeff.effect.apply(lambda x: str(x).split('&'))"
   ]
  },
  {
   "cell_type": "code",
   "execution_count": null,
   "id": "e8169d66-9792-420d-9ef5-15bde7582ecb",
   "metadata": {},
   "outputs": [],
   "source": [
    "all_variants_snpeff.effect"
   ]
  },
  {
   "cell_type": "markdown",
   "id": "65269cc0-172f-4b27-b343-16692f6cd60a",
   "metadata": {},
   "source": [
    "Create LOF classification"
   ]
  },
  {
   "cell_type": "code",
   "execution_count": null,
   "id": "67f83681-19b8-4002-901e-a770877e3238",
   "metadata": {},
   "outputs": [],
   "source": [
    "all_variants_snpeff['LOF'] = all_variants_snpeff.effect.apply(lambda x: any([eff in lof_effects for eff in x]))"
   ]
  },
  {
   "cell_type": "markdown",
   "id": "6300ed4d-aad9-4898-8f1c-f335cf52bf67",
   "metadata": {},
   "source": [
    "# Identify non synonymous variants"
   ]
  },
  {
   "cell_type": "code",
   "execution_count": null,
   "id": "f825c376-82d7-4470-a07b-3956a7c60453",
   "metadata": {},
   "outputs": [],
   "source": [
    "nonsym_effects = ['Missense_variant' ,\n",
    "'Inframe_insertion' ,\n",
    "'Inframe_deletion' ,\n",
    "'5_prime_UTR_truncation' ,\n",
    "'3_prime_UTR_truncatisplice_region_variant' ,\n",
    "'Splice_branch_variant' ,\n",
    "'Coding_sequence_variant',\n",
    "'Regulatory_region_ablation' ,\n",
    "'TFBS_ablation',\n",
    "'5_prime_UTR_premature_start_codon_gain_variant' ,\n",
    "'Non-canonical_start_codon']\n",
    "\n",
    "nonsym_effects = [e.lower() for e in nonsym_effects]"
   ]
  },
  {
   "cell_type": "code",
   "execution_count": null,
   "id": "385b2137-a65c-4850-bf5a-0318e7b568da",
   "metadata": {},
   "outputs": [],
   "source": [
    "all_variants_snpeff['non_syn'] = all_variants_snpeff.effect.apply(lambda x: any([eff in nonsym_effects for eff in x]))"
   ]
  },
  {
   "cell_type": "markdown",
   "id": "b66763dc-ced1-46a4-968b-756314831a10",
   "metadata": {},
   "source": [
    "# Output description\n",
    "---"
   ]
  },
  {
   "cell_type": "markdown",
   "id": "181b2dfd-5c8b-461a-959d-e4f4cf3f9741",
   "metadata": {},
   "source": [
    "From https://pcingola.github.io/SnpEff/se_inputoutput/#ann-field-vcf-output-files"
   ]
  },
  {
   "cell_type": "markdown",
   "id": "6f6f818c-30e5-4f7f-ab1a-02cbcb626970",
   "metadata": {},
   "source": [
    "First 4 columns are the same as the input vcf. Columns 4 and 5 are repeated (bug). (?)"
   ]
  },
  {
   "cell_type": "markdown",
   "id": "bd25b326-83e4-4018-a194-41eb06906a59",
   "metadata": {},
   "source": [
    "- **Allele (or ALT)**: In case of multiple ALT fields, this helps to identify which ALT we are referring to. E.g.:\n",
    "\n",
    "- **Annotation (a.k.a. effect)**: Annotated using Sequence Ontology terms. Multiple effects can be concatenated using '&'.\n",
    "\n",
    "- **Putative_impact**: A simple estimation of putative impact / deleteriousness : {HIGH, MODERATE, LOW, MODIFIER}\n",
    "\n",
    "- **Gene Name**: Common gene name (HGNC). Optional: use closest gene when the variant is \"intergenic\".\n",
    "\n",
    "- **Gene ID**: Gene ID\n",
    "\n",
    "- **Feature type**: Which type of feature is in the next field (e.g. transcript, motif, miRNA, etc.). It is preferred to use Sequence Ontology (SO) terms, but 'custom' (user defined) are allowed.\n",
    "\n",
    "- **Feature ID**: Depending on the annotation, this may be: Transcript ID (preferably using version number), Motif ID, miRNA, ChipSeq peak, Histone mark, etc. Note: Some features may not have ID (e.g. histone marks from custom Chip-Seq experiments may not have a unique ID).\n",
    "\n",
    "- **Transcript biotype**: The bare minimum is at least a description on whether the transcript is {\"Coding\", \"Noncoding\"}. Whenever possible, use ENSEMBL biotypes.\n",
    "\n",
    "- **Rank / total**: Exon or Intron rank / total number of exons or introns.\n",
    "\n",
    "- **HGVS.c**: Variant using HGVS notation (DNA level)\n",
    "\n",
    "- **HGVS.p**: If variant is coding, this field describes the variant using HGVS notation (Protein level). Since transcript ID is already mentioned in 'feature ID', it may be omitted here.\n",
    "\n",
    "- **cDNA_position / cDNA_len**: Position in cDNA and trancript's cDNA length (one based).\n",
    "\n",
    "- **CDS_position / CDS_len**: Position and number of coding bases (one based includes START and STOP codons).\n",
    "\n",
    "- **Protein_position / Protein_len**: Position and number of AA (one based, including START, but not STOP).\n",
    "\n",
    "- **Distance to feature**: All items in this field are options, so the field could be empty.\n",
    "\n",
    "  - Up/Downstream: Distance to first / last codon\n",
    "  - Intergenic: Distance to closest gene\n",
    "  - Distance to closest Intron boundary in exon (+/- up/downstream). If same, use positive number.\n",
    "  - Distance to closest exon boundary in Intron (+/- up/downstream)\n",
    "  - Distance to first base in MOTIF\n",
    "  - Distance to first base in miRNA\n",
    "  - Distance to exon-intron boundary in splice_site or splice _region\n",
    "  - ChipSeq peak: Distance to summit (or peak center)\n",
    "  - Histone mark / Histone state: Distance to summit (or peak center)\n",
    "\n",
    "- **Errors, Warnings or Information messages**: Add errors, warnings or informative message that can affect annotation accuracy. It can be added using either 'codes' (as shown in column 1, e.g. W1) or 'message types' (as shown in column 2, e.g. WARNING_REF_DOES_NOT_MATCH_GENOME). All these errors, warnings or information messages messages are optional."
   ]
  },
  {
   "cell_type": "markdown",
   "id": "4ecaba67-e591-4dde-b3a0-0a19c1ea309e",
   "metadata": {},
   "source": [
    "Loss of function (LOF) and nonsense-mediated decay (NMD) annotations:\n",
    "\n",
    "- **gene**: Gene name\n",
    "- **geneid**: Gene ID (usually ENSEMBL)\n",
    "- **ntranscripts**: Number of transcripts in this gene\n",
    "- **fraction_affected**: Percentage of transcripts affected by this variant."
   ]
  },
  {
   "cell_type": "code",
   "execution_count": null,
   "id": "f9ac9099-63a2-4053-8407-2a0bc0fad552",
   "metadata": {},
   "outputs": [],
   "source": []
  }
 ],
 "metadata": {
  "kernelspec": {
   "display_name": "Python 3",
   "language": "python",
   "name": "python3"
  },
  "language_info": {
   "codemirror_mode": {
    "name": "ipython",
    "version": 3
   },
   "file_extension": ".py",
   "mimetype": "text/x-python",
   "name": "python",
   "nbconvert_exporter": "python",
   "pygments_lexer": "ipython3",
   "version": "3.9.5"
  }
 },
 "nbformat": 4,
 "nbformat_minor": 5
}
