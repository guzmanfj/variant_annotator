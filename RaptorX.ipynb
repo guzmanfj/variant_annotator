{
 "cells": [
  {
   "cell_type": "markdown",
   "id": "e70f040a-c61d-4208-822a-94b84c9845df",
   "metadata": {},
   "source": [
    "# Get structural properties from RaptorX"
   ]
  },
  {
   "cell_type": "markdown",
   "id": "3ab2a5ce-10c7-495c-aeed-6eeedd719d1c",
   "metadata": {},
   "source": [
    "## Define functions to calculate the structural properties:"
   ]
  },
  {
   "cell_type": "code",
   "execution_count": null,
   "id": "165aae22-dd70-4cc8-83c0-33ed0e801c5a",
   "metadata": {},
   "outputs": [],
   "source": [
    "import numpy as np\n",
    "import pandas as pd"
   ]
  },
  {
   "cell_type": "markdown",
   "id": "93baca87-5aa4-4633-97f6-8e406f3c91a3",
   "metadata": {},
   "source": [
    "Functions to get the average of different properties over a window"
   ]
  },
  {
   "cell_type": "code",
   "execution_count": null,
   "id": "cf16a207-35ec-4396-8fbe-03484bbc6510",
   "metadata": {},
   "outputs": [],
   "source": [
    "def get_avg(df:pd.DataFrame, pos:int, wlen:int) -> tuple:\n",
    "    \"\"\"\n",
    "    Calculate the average of a given property on a residue window of size\n",
    "    `wlen`. For odd-numbered windows, take the elements centered around `pos`.\n",
    "    For even-numbered windows, take the elements with `pos` in the `wlen`/2 position.\n",
    "    \n",
    "    E.g. in a window of 9 elements centered around 5, `pos` will be the 5th element:\n",
    "    1 2 3 4 *5* 6 7 8 9\n",
    "    \n",
    "    And in a window of 10 elements centered around 5, `pos` will also be the 5th element:\n",
    "    1 2 3 4 *5* 6 7 8 9 10\n",
    "\n",
    "    \n",
    "    Args:\n",
    "        df (DataFrame): DataFrame with the structural properties to calculate\n",
    "            the averages\n",
    "        pos (int): Position on which the window will be centered\n",
    "        wlen (int): Window length to calculate the average\n",
    "\n",
    "    Returns:\n",
    "        tuple: Average of all the properties over the defined window\n",
    "    \"\"\"\n",
    "    \n",
    "    half_window_down = np.ceil(wlen/2)-1\n",
    "    half_window_up = np.ceil((wlen+1)/2)-1\n",
    "    \n",
    "    # Convert from 1-based numbering to 0-based\n",
    "    inf=int(pos-(half_window_down+1))\n",
    "    sup=int(pos+half_window_up)\n",
    "    \n",
    "    # If the window limits go beyond the sequence limits,\n",
    "    # return the first or the last `wlen` amino acids\n",
    "    seq_length = len(df)\n",
    "    if inf < 0:\n",
    "        inf=0\n",
    "        sup=wlen\n",
    "    elif sup > seq_length:\n",
    "        inf=seq_length-wlen\n",
    "        sup=seq_length\n",
    "    \n",
    "    \n",
    "    diso = df.iloc[inf:sup].diso_prob.mean()\n",
    "    tm2 = df.iloc[inf:sup].tm2_prob.mean()\n",
    "    hss3 = df.iloc[inf:sup].H_prob_ss3.mean()\n",
    "    ess3 = df.iloc[inf:sup].E_prob_ss3.mean()\n",
    "    css3 = df.iloc[inf:sup].C_prob_ss3.mean()\n",
    "    bacc = df.iloc[inf:sup].B_prob_acc.mean()\n",
    "    macc = df.iloc[inf:sup].M_prob_acc.mean()\n",
    "    eacc = df.iloc[inf:sup].E_prob_acc.mean()\n",
    "    \n",
    "    return diso,tm2,hss3,ess3,css3,bacc,macc,eacc\n",
    "\n",
    "\n",
    "columns = ['diso_prob',\n",
    "           'tm2_prob',\n",
    "           'H_prob_ss3',\n",
    "           'E_prob_ss3',\n",
    "           'C_prob_ss3',\n",
    "           'B_prob_acc',\n",
    "           'M_prob_acc',\n",
    "           'E_prob_acc']\n",
    "\n",
    "\n",
    "def calculate_window(gene:str, positions:list, wlen:int) -> pd.DataFrame:\n",
    "    \"\"\"\n",
    "    Calculate the average of `prop` for all the variants in the given series,\n",
    "    for a single gene\n",
    "    \n",
    "    Args:\n",
    "        gene (str): Gene to calculate properties for\n",
    "        variants (list): List of integers with the residue positions of the variants\n",
    "        wlen (int): Window length\n",
    "\n",
    "    Returns:\n",
    "        dict: Dictionary with lists of values for each variant\n",
    "    \"\"\"\n",
    "    properties = pd.read_pickle(f'/ibex/scratch/projects/c2102/results/raptorx/{gene}.pkl')\n",
    "    \n",
    "    values = []\n",
    "    \n",
    "    for pos in positions:\n",
    "        values.append(get_avg(properties, pos, wlen))\n",
    "        \n",
    "    \n",
    "    return pd.DataFrame(values, columns=columns)"
   ]
  },
  {
   "cell_type": "markdown",
   "id": "4ef0a192-953b-4b4c-aecf-7605fd95d1d4",
   "metadata": {},
   "source": [
    "Calculate values for a single gene (Uniprot ID), giving a list of amino acids and window length as inputs."
   ]
  },
  {
   "cell_type": "code",
   "execution_count": null,
   "id": "95e59263-4013-410b-bfd0-095cdf3cea8e",
   "metadata": {},
   "outputs": [],
   "source": [
    "genes = []\n",
    "positions = []"
   ]
  },
  {
   "cell_type": "code",
   "execution_count": null,
   "id": "6df5fd2e-f0b6-45b2-9dce-ef9eb62bd221",
   "metadata": {},
   "outputs": [],
   "source": [
    "calculate_window('SKA3_HUMAN', , 5)"
   ]
  }
 ],
 "metadata": {
  "kernelspec": {
   "display_name": "Python 3",
   "language": "python",
   "name": "python3"
  },
  "language_info": {
   "codemirror_mode": {
    "name": "ipython",
    "version": 3
   },
   "file_extension": ".py",
   "mimetype": "text/x-python",
   "name": "python",
   "nbconvert_exporter": "python",
   "pygments_lexer": "ipython3",
   "version": "3.9.5"
  }
 },
 "nbformat": 4,
 "nbformat_minor": 5
}
