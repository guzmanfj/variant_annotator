{
 "cells": [
  {
   "cell_type": "markdown",
   "id": "33718c74-cc4d-4aa9-9825-fcc2c7ac0d49",
   "metadata": {},
   "source": [
    "# Get present domains with HHsearch"
   ]
  },
  {
   "cell_type": "markdown",
   "id": "99a61148-f177-4e2c-b005-f3328761bb15",
   "metadata": {},
   "source": [
    "## Define functions to find present domains:"
   ]
  },
  {
   "cell_type": "code",
   "execution_count": null,
   "id": "6ecb0718-03ed-4eaa-916d-2333b5b86c50",
   "metadata": {},
   "outputs": [],
   "source": [
    "import numpy as np\n",
    "import pandas as pd"
   ]
  },
  {
   "cell_type": "code",
   "execution_count": null,
   "id": "195dbdbe-48ab-4727-9cc2-4ab6b3840d50",
   "metadata": {},
   "outputs": [],
   "source": [
    "def find_domains(hits:pd.DataFrame, pos:int) -> pd.DataFrame:\n",
    "    \"\"\"\n",
    "    Function to find which hits are in a given residue position\n",
    "    \n",
    "    Args:\n",
    "        hits (DataFrame): DataFrame with the hits from hhsearch\n",
    "        pos (int): Residue position to find the hits\n",
    "\n",
    "    Returns:\n",
    "        DataFrame: Table with the found hits\n",
    "        \n",
    "    \"\"\"\n",
    "    \n",
    "    # Convert the ranges to integer tuples\n",
    "    ranges = [hit.split('-') for hit in hits.Query_HMM]\n",
    "    ranges = [(int(a), int(b)) for a,b in ranges]\n",
    "    \n",
    "    present = [(pos>=lower and pos<=upper) for lower, upper in ranges]\n",
    "    \n",
    "    if any(present):\n",
    "        return hits[present]\n",
    "    else:\n",
    "        return None"
   ]
  },
  {
   "cell_type": "markdown",
   "id": "166b61ee-3f78-4d8d-8300-7acbc16bb6d7",
   "metadata": {},
   "source": [
    "# Pfam"
   ]
  },
  {
   "cell_type": "markdown",
   "id": "8b3848a4-8f61-4dba-9ddc-45170f875692",
   "metadata": {},
   "source": [
    "Run function for all genes"
   ]
  },
  {
   "cell_type": "code",
   "execution_count": null,
   "id": "a4fcb34f-d11d-4b75-a219-571782976070",
   "metadata": {},
   "outputs": [],
   "source": [
    "domains = []\n",
    "\n",
    "for gene in genes:\n",
    "    variants = variants_snpeff.loc[variants_snpeff.uniprot_name==gene]\n",
    "    positions = variants.protein_position\n",
    "    pfam = pd.read_pickle(f'/ibex/scratch/projects/c2102/mutation_classifier/scripts/hhsearch_human_pfam/{gene}.pkl')\n",
    "    for pos in positions:\n",
    "        domains.append(find_domains(pfam, pos))"
   ]
  },
  {
   "cell_type": "code",
   "execution_count": null,
   "id": "9cdb5173-349b-4a13-b7c9-2eee80c2ba18",
   "metadata": {},
   "outputs": [],
   "source": [
    "domains = pd.Series(domains)\n",
    "domains"
   ]
  },
  {
   "cell_type": "markdown",
   "id": "13689c16-bdd8-49e7-8064-a1ecbf2f8124",
   "metadata": {},
   "source": [
    "# Pdb70"
   ]
  },
  {
   "cell_type": "markdown",
   "id": "a3a22912-3aa2-4b3a-8bda-1fb80a01e3ef",
   "metadata": {},
   "source": [
    "Run function for all genes"
   ]
  },
  {
   "cell_type": "code",
   "execution_count": null,
   "id": "18d959e5-1be6-4e13-bb7e-fde3d9ea8b12",
   "metadata": {},
   "outputs": [],
   "source": [
    "domains = []\n",
    "\n",
    "for gene in genes:\n",
    "    variants = variants_pfam.loc[variants_pfam.uniprot_name==gene]\n",
    "    positions = variants.protein_position\n",
    "    pdb70 = pd.read_pickle(f'/ibex/scratch/projects/c2102/mutation_classifier/scripts/hhsearch_human_pdb70/{gene}.pkl')\n",
    "    for pos in positions:\n",
    "        domains.append(find_domains(pdb70, pos))"
   ]
  },
  {
   "cell_type": "code",
   "execution_count": null,
   "id": "6394282f-b8e9-4cfc-b338-21f8a40948b2",
   "metadata": {},
   "outputs": [],
   "source": [
    "domains = pd.Series(domains)\n",
    "domains"
   ]
  }
 ],
 "metadata": {
  "kernelspec": {
   "display_name": "Python 3",
   "language": "python",
   "name": "python3"
  },
  "language_info": {
   "codemirror_mode": {
    "name": "ipython",
    "version": 3
   },
   "file_extension": ".py",
   "mimetype": "text/x-python",
   "name": "python",
   "nbconvert_exporter": "python",
   "pygments_lexer": "ipython3",
   "version": "3.9.5"
  }
 },
 "nbformat": 4,
 "nbformat_minor": 5
}
