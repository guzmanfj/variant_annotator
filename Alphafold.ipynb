{
 "cells": [
  {
   "cell_type": "markdown",
   "id": "bbec0ba6-f45a-4dbd-9cf6-d7fbcd85dba3",
   "metadata": {},
   "source": [
    "# Alphafold"
   ]
  },
  {
   "cell_type": "code",
   "execution_count": null,
   "id": "89d6176e-1976-4e37-b428-9b7fc89b7669",
   "metadata": {},
   "outputs": [],
   "source": [
    "from Bio import SeqIO"
   ]
  },
  {
   "cell_type": "code",
   "execution_count": null,
   "id": "ac777505-87de-48e4-b173-640d5e2e3096",
   "metadata": {},
   "outputs": [],
   "source": [
    "sequences = list(SeqIO.parse('/ibex/scratch/projects/c2087/initial_data/sequences/denovo/denovo.translated.fa','fasta'))"
   ]
  },
  {
   "cell_type": "code",
   "execution_count": null,
   "id": "48a20149-3dc3-4f12-9655-bfd1b0f4300b",
   "metadata": {},
   "outputs": [],
   "source": [
    "## Run Alphafold Ibex\n",
    "from pathlib import Path\n",
    "from alphafold_ibex.alphafold_ibex import AlphafoldIbex\n",
    "\n",
    "# Directory to save the results\n",
    "output_dir = Path('../denovos_6r')\n",
    "# Path to the conda virtual environment\n",
    "conda_env = Path('/ibex/scratch/guzmanfj/alphafold_ibex/env')\n",
    "# Path to the alphafold script in the Alphafold fork\n",
    "af_script = Path('/ibex/scratch/guzmanfj/alphafold_strube/run_alphafold.py')\n",
    "\n",
    "# Create an instance of AlphafoldIbex and run it\n",
    "exe = AlphafoldIbex(sequences, out_dir=output_dir, conda_env=conda_env,\n",
    "                    af_script=af_script, recycles=6)\n",
    "exe.run()"
   ]
  }
 ],
 "metadata": {
  "kernelspec": {
   "display_name": "Python 3",
   "language": "python",
   "name": "python3"
  },
  "language_info": {
   "codemirror_mode": {
    "name": "ipython",
    "version": 3
   },
   "file_extension": ".py",
   "mimetype": "text/x-python",
   "name": "python",
   "nbconvert_exporter": "python",
   "pygments_lexer": "ipython3",
   "version": "3.9.5"
  }
 },
 "nbformat": 4,
 "nbformat_minor": 5
}
